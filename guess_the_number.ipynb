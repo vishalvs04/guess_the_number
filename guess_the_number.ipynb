{
 "cells": [
  {
   "cell_type": "markdown",
   "id": "e9ba199a",
   "metadata": {},
   "source": [
    "# Guess the number Game::::::::::::::"
   ]
  },
  {
   "cell_type": "code",
   "execution_count": 5,
   "id": "ccd7214b",
   "metadata": {
    "scrolled": false
   },
   "outputs": [
    {
     "name": "stdout",
     "output_type": "stream",
     "text": [
      "If you want to quit, type quit.\n",
      "Computer chose a number in the range 0-10\n",
      "Do you wanna guess what it is?\n",
      "User Guess: 2\n",
      "Try again!\n",
      "User guess 2\n",
      "computer guess 7\n",
      "____________________________________________________________________________\n",
      "Computer chose a number in the range 0-10\n",
      "Do you wanna guess what it is?\n",
      "User Guess: quit\n",
      "Quit\n"
     ]
    }
   ],
   "source": [
    "#import random library for the computer to choose the number\n",
    "import random\n",
    "print(\"If you want to quit, type quit.\")\n",
    "runner_code=True\n",
    "while runner_code:\n",
    "    print(\"Computer chose a number in the range 0-10\")\n",
    "    computer_guess=random.randint(0,10)\n",
    "    print(\"Do you wanna guess what it is?\")\n",
    "    user_input=input(\"User Guess: \")\n",
    "    if user_input!='quit':\n",
    "        user_input=int(user_input)\n",
    "        if user_input==computer_guess:\n",
    "            print(\"Victory!!!\")\n",
    "            print(\"User guess\",user_input)\n",
    "            print(\"computer guess\",computer_guess)\n",
    "            print(\"____________________________________________________________________________\")\n",
    "        else:\n",
    "            print(\"Try again!\")\n",
    "            print(\"User guess\",user_input)\n",
    "            print(\"computer guess\",computer_guess)\n",
    "            print(\"____________________________________________________________________________\")\n",
    "            if user_input>10 or user_input<0:\n",
    "                print(\"Choose number in the range again.\")\n",
    "    if type(user_input)==str and user_input=='quit':\n",
    "        print(\"Quit\")\n",
    "        runner_code=False"
   ]
  },
  {
   "cell_type": "code",
   "execution_count": 2,
   "id": "2e08df8e",
   "metadata": {},
   "outputs": [],
   "source": [
    "user='10'"
   ]
  },
  {
   "cell_type": "code",
   "execution_count": 3,
   "id": "a325e1e7",
   "metadata": {
    "scrolled": true
   },
   "outputs": [
    {
     "data": {
      "text/plain": [
       "True"
      ]
     },
     "execution_count": 3,
     "metadata": {},
     "output_type": "execute_result"
    }
   ],
   "source": [
    "type(int(user))==int"
   ]
  },
  {
   "cell_type": "code",
   "execution_count": 4,
   "id": "4679d2e1",
   "metadata": {},
   "outputs": [
    {
     "name": "stdout",
     "output_type": "stream",
     "text": [
      "Hey I've Chosen a number in the range of 0-10, Wanna guess what it is?\n",
      "Choose a number in the range of 0-10:quit\n"
     ]
    }
   ],
   "source": [
    "print(\"Hey I've Chosen a number in the range of 0-10, Wanna guess what it is?\")\n",
    "    \n",
    "computer_input=random.randint(0,10)\n",
    "user_input=input(\"Choose a number in the range of 0-10:\")\n",
    "#step 2: compare the user input with the computer's choosen number\n",
    "while type(user_input)==int:\n",
    "    user_input=int(user_input)\n",
    "    if user_input==computer_input:\n",
    "        print(\"VICTORY!!!!! You guessed\",user_input,\" and i also guessed\",computer_input)\n",
    "        #Step 3: Print the output whether it's correct or not.\n",
    "    elif user_input!=computer_input:\n",
    "        print(\"******Oops!! Wrong guess, Try again. You guessed\",user_input,\" and i guessed\",computer_input)\n"
   ]
  },
  {
   "cell_type": "code",
   "execution_count": null,
   "id": "124c3320",
   "metadata": {},
   "outputs": [],
   "source": []
  }
 ],
 "metadata": {
  "kernelspec": {
   "display_name": "Python 3 (ipykernel)",
   "language": "python",
   "name": "python3"
  },
  "language_info": {
   "codemirror_mode": {
    "name": "ipython",
    "version": 3
   },
   "file_extension": ".py",
   "mimetype": "text/x-python",
   "name": "python",
   "nbconvert_exporter": "python",
   "pygments_lexer": "ipython3",
   "version": "3.9.7"
  }
 },
 "nbformat": 4,
 "nbformat_minor": 5
}
